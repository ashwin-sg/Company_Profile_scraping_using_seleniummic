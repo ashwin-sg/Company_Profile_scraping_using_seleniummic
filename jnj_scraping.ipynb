{
 "cells": [
  {
   "cell_type": "markdown",
   "id": "eed6f59d",
   "metadata": {},
   "source": [
    "#### Initial setup"
   ]
  },
  {
   "cell_type": "code",
   "execution_count": 1,
   "id": "8bc698df",
   "metadata": {},
   "outputs": [
    {
     "name": "stdout",
     "output_type": "stream",
     "text": [
      "Finish importing packages\n"
     ]
    }
   ],
   "source": [
    "# import packages\n",
    "\n",
    "from selenium import webdriver\n",
    "from selenium.webdriver.common.keys import Keys\n",
    "from bs4 import BeautifulSoup\n",
    "from time import sleep\n",
    "import csv \n",
    "from lxml import etree\n",
    "import pandas as pd\n",
    "import numpy as np\n",
    "from selenium.webdriver.common.by import By\n",
    "from selenium.webdriver.chrome.options import Options\n",
    "\n",
    "print(\"Finish importing packages\")"
   ]
  },
  {
   "cell_type": "code",
   "execution_count": 2,
   "id": "7d186631",
   "metadata": {},
   "outputs": [
    {
     "name": "stderr",
     "output_type": "stream",
     "text": [
      "<ipython-input-2-08d7f396fa33>:8: DeprecationWarning: executable_path has been deprecated, please pass in a Service object\n",
      "  driver = webdriver.Chrome(PATH)\n"
     ]
    },
    {
     "name": "stdout",
     "output_type": "stream",
     "text": [
      "Web driver is launched successfully\n"
     ]
    }
   ],
   "source": [
    "# provide chromedriver path\n",
    "\n",
    "PATH = \"C:\\Webdrivers\\Chromedriver 69\\chromedriver.exe\"\n",
    "\n",
    "\n",
    "# Open Chrome and Access Linkedin login site\n",
    "\n",
    "driver = webdriver.Chrome(PATH)\n",
    "sleep(3)\n",
    "\n",
    "print('Web driver is launched successfully')"
   ]
  },
  {
   "cell_type": "markdown",
   "id": "3ea48a99",
   "metadata": {},
   "source": [
    "#### Extracting the data"
   ]
  },
  {
   "cell_type": "code",
   "execution_count": 3,
   "id": "93972c7a",
   "metadata": {},
   "outputs": [
    {
     "name": "stderr",
     "output_type": "stream",
     "text": [
      "<ipython-input-3-034390644dea>:15: DeprecationWarning: find_elements_by_* commands are deprecated. Please use find_elements() instead\n",
      "  for title in driver.find_elements_by_xpath(\"//a[@class='stretched-link js-view-job']\"):\n",
      "<ipython-input-3-034390644dea>:21: DeprecationWarning: find_elements_by_* commands are deprecated. Please use find_elements() instead\n",
      "  for other in driver.find_elements_by_xpath('//ul[@class=\"list-inline job-meta\"]'):\n"
     ]
    },
    {
     "name": "stdout",
     "output_type": "stream",
     "text": [
      "Page 1 is scraped\n",
      "Page 2 is scraped\n",
      "Page 3 is scraped\n",
      "Page 4 is scraped\n",
      "Page 5 is scraped\n"
     ]
    }
   ],
   "source": [
    "# creating an empty list to store the data\n",
    "\n",
    "Job_Title = []\n",
    "Other = []  \n",
    "    \n",
    "# creating pagination\n",
    "\n",
    "for page in range(1,6):\n",
    "    \n",
    "    url = f'https://jobs.jnj.com/en/jobs/?page={page}&pagesize=20#results'\n",
    "    driver.get(url)\n",
    "    driver.maximize_window()\n",
    "    sleep(10)\n",
    "    \n",
    "    for title in driver.find_elements_by_xpath(\"//a[@class='stretched-link js-view-job']\"):\n",
    "        jobtitle = title.text\n",
    "        Job_Title.append(jobtitle)\n",
    "    \n",
    "    sleep(2)\n",
    "             \n",
    "    for other in driver.find_elements_by_xpath('//ul[@class=\"list-inline job-meta\"]'):\n",
    "        other_details = other.text\n",
    "        Other.append(other_details)\n",
    "    \n",
    "            \n",
    "    print(f'Page {page} is scraped')\n",
    "    \n",
    "    sleep(5)\n",
    "    \n",
    "    "
   ]
  },
  {
   "cell_type": "code",
   "execution_count": 4,
   "id": "458920ba",
   "metadata": {},
   "outputs": [],
   "source": [
    "# convert the dictionary to dataframe\n",
    "\n",
    "data = pd.DataFrame({\n",
    "    \n",
    "    'Job_Title' : Job_Title,\n",
    "    'Other_details' : Other\n",
    "})"
   ]
  },
  {
   "cell_type": "markdown",
   "id": "16eba4ba",
   "metadata": {},
   "source": [
    "#### basic dataframe overview"
   ]
  },
  {
   "cell_type": "code",
   "execution_count": 5,
   "id": "9e5be8a0",
   "metadata": {},
   "outputs": [
    {
     "data": {
      "text/html": [
       "<div>\n",
       "<style scoped>\n",
       "    .dataframe tbody tr th:only-of-type {\n",
       "        vertical-align: middle;\n",
       "    }\n",
       "\n",
       "    .dataframe tbody tr th {\n",
       "        vertical-align: top;\n",
       "    }\n",
       "\n",
       "    .dataframe thead th {\n",
       "        text-align: right;\n",
       "    }\n",
       "</style>\n",
       "<table border=\"1\" class=\"dataframe\">\n",
       "  <thead>\n",
       "    <tr style=\"text-align: right;\">\n",
       "      <th></th>\n",
       "      <th>Job_Title</th>\n",
       "      <th>Other_details</th>\n",
       "    </tr>\n",
       "  </thead>\n",
       "  <tbody>\n",
       "    <tr>\n",
       "      <th>0</th>\n",
       "      <td>Senior Finance Analyst, APAC Vision Deliver</td>\n",
       "      <td>Finance - Finance Singapore</td>\n",
       "    </tr>\n",
       "    <tr>\n",
       "      <th>1</th>\n",
       "      <td>Senior Therapeutic Specialist (Neuroscience) [...</td>\n",
       "      <td>Sales - Selling Pharmaceutical Mongkok, China</td>\n",
       "    </tr>\n",
       "    <tr>\n",
       "      <th>2</th>\n",
       "      <td>Key Account Manager [Janssen]</td>\n",
       "      <td>Sales - Selling Pharmaceutical Mongkok, China</td>\n",
       "    </tr>\n",
       "    <tr>\n",
       "      <th>3</th>\n",
       "      <td>EMR</td>\n",
       "      <td>Sales - Selling Pharmaceutical Tianjin, China</td>\n",
       "    </tr>\n",
       "    <tr>\n",
       "      <th>4</th>\n",
       "      <td>Clinical Sales Specialist (Joint Reconstructio...</td>\n",
       "      <td>Sales - Selling MD&amp;D Richmond, United States</td>\n",
       "    </tr>\n",
       "  </tbody>\n",
       "</table>\n",
       "</div>"
      ],
      "text/plain": [
       "                                           Job_Title  \\\n",
       "0        Senior Finance Analyst, APAC Vision Deliver   \n",
       "1  Senior Therapeutic Specialist (Neuroscience) [...   \n",
       "2                      Key Account Manager [Janssen]   \n",
       "3                                                EMR   \n",
       "4  Clinical Sales Specialist (Joint Reconstructio...   \n",
       "\n",
       "                                   Other_details  \n",
       "0                    Finance - Finance Singapore  \n",
       "1  Sales - Selling Pharmaceutical Mongkok, China  \n",
       "2  Sales - Selling Pharmaceutical Mongkok, China  \n",
       "3  Sales - Selling Pharmaceutical Tianjin, China  \n",
       "4   Sales - Selling MD&D Richmond, United States  "
      ]
     },
     "execution_count": 5,
     "metadata": {},
     "output_type": "execute_result"
    }
   ],
   "source": [
    "# check first five rows\n",
    "\n",
    "data.head()"
   ]
  },
  {
   "cell_type": "code",
   "execution_count": 6,
   "id": "c7ef2524",
   "metadata": {},
   "outputs": [
    {
     "data": {
      "text/plain": [
       "(100, 2)"
      ]
     },
     "execution_count": 6,
     "metadata": {},
     "output_type": "execute_result"
    }
   ],
   "source": [
    "# check the size of the data\n",
    "\n",
    "data.shape"
   ]
  },
  {
   "cell_type": "code",
   "execution_count": 7,
   "id": "96cf480c",
   "metadata": {},
   "outputs": [
    {
     "name": "stdout",
     "output_type": "stream",
     "text": [
      "<class 'pandas.core.frame.DataFrame'>\n",
      "RangeIndex: 100 entries, 0 to 99\n",
      "Data columns (total 2 columns):\n",
      " #   Column         Non-Null Count  Dtype \n",
      "---  ------         --------------  ----- \n",
      " 0   Job_Title      100 non-null    object\n",
      " 1   Other_details  100 non-null    object\n",
      "dtypes: object(2)\n",
      "memory usage: 1.7+ KB\n"
     ]
    }
   ],
   "source": [
    "data.info()"
   ]
  },
  {
   "cell_type": "markdown",
   "id": "d73c1902",
   "metadata": {},
   "source": [
    "#### data cleaning"
   ]
  },
  {
   "cell_type": "code",
   "execution_count": 8,
   "id": "a2ba5979",
   "metadata": {},
   "outputs": [
    {
     "data": {
      "text/plain": [
       "0                           Finance - Finance Singapore\n",
       "1         Sales - Selling Pharmaceutical Mongkok, China\n",
       "2         Sales - Selling Pharmaceutical Mongkok, China\n",
       "3         Sales - Selling Pharmaceutical Tianjin, China\n",
       "4          Sales - Selling MD&D Richmond, United States\n",
       "                            ...                        \n",
       "95    Engineering - Process Engineering Leiden, Neth...\n",
       "96    Info Technology - Business Solutions Chiyoda, ...\n",
       "97         Sales - Selling MD&D Amersfoort, Netherlands\n",
       "98         Operations - Procurement Manila, Philippines\n",
       "99              Sales - Selling MD&D Kao-hsiung, Taiwan\n",
       "Name: Other_details, Length: 100, dtype: object"
      ]
     },
     "execution_count": 8,
     "metadata": {},
     "output_type": "execute_result"
    }
   ],
   "source": [
    "# lets explore other_deatils \n",
    "\n",
    "data['Other_details']"
   ]
  },
  {
   "cell_type": "code",
   "execution_count": 9,
   "id": "e65067f7",
   "metadata": {},
   "outputs": [
    {
     "data": {
      "text/plain": [
       "'Finance - Finance Singapore'"
      ]
     },
     "execution_count": 9,
     "metadata": {},
     "output_type": "execute_result"
    }
   ],
   "source": [
    "# department and location needs to be separated into different columns\n",
    "\n",
    "data['Other_details'][0]"
   ]
  },
  {
   "cell_type": "code",
   "execution_count": 10,
   "id": "bf2a0b9e",
   "metadata": {},
   "outputs": [
    {
     "data": {
      "text/html": [
       "<div>\n",
       "<style scoped>\n",
       "    .dataframe tbody tr th:only-of-type {\n",
       "        vertical-align: middle;\n",
       "    }\n",
       "\n",
       "    .dataframe tbody tr th {\n",
       "        vertical-align: top;\n",
       "    }\n",
       "\n",
       "    .dataframe thead th {\n",
       "        text-align: right;\n",
       "    }\n",
       "</style>\n",
       "<table border=\"1\" class=\"dataframe\">\n",
       "  <thead>\n",
       "    <tr style=\"text-align: right;\">\n",
       "      <th></th>\n",
       "      <th>0</th>\n",
       "      <th>1</th>\n",
       "      <th>2</th>\n",
       "      <th>3</th>\n",
       "      <th>4</th>\n",
       "    </tr>\n",
       "  </thead>\n",
       "  <tbody>\n",
       "    <tr>\n",
       "      <th>0</th>\n",
       "      <td>Finance - Finance Singapore</td>\n",
       "      <td>None</td>\n",
       "      <td>None</td>\n",
       "      <td>None</td>\n",
       "      <td>None</td>\n",
       "    </tr>\n",
       "    <tr>\n",
       "      <th>1</th>\n",
       "      <td>Sales - Selling Pharmaceutical Mongkok, China</td>\n",
       "      <td>None</td>\n",
       "      <td>None</td>\n",
       "      <td>None</td>\n",
       "      <td>None</td>\n",
       "    </tr>\n",
       "    <tr>\n",
       "      <th>2</th>\n",
       "      <td>Sales - Selling Pharmaceutical Mongkok, China</td>\n",
       "      <td>None</td>\n",
       "      <td>None</td>\n",
       "      <td>None</td>\n",
       "      <td>None</td>\n",
       "    </tr>\n",
       "    <tr>\n",
       "      <th>3</th>\n",
       "      <td>Sales - Selling Pharmaceutical Tianjin, China</td>\n",
       "      <td>None</td>\n",
       "      <td>None</td>\n",
       "      <td>None</td>\n",
       "      <td>None</td>\n",
       "    </tr>\n",
       "    <tr>\n",
       "      <th>4</th>\n",
       "      <td>Sales - Selling MD&amp;D Richmond, United States</td>\n",
       "      <td>None</td>\n",
       "      <td>None</td>\n",
       "      <td>None</td>\n",
       "      <td>None</td>\n",
       "    </tr>\n",
       "    <tr>\n",
       "      <th>...</th>\n",
       "      <td>...</td>\n",
       "      <td>...</td>\n",
       "      <td>...</td>\n",
       "      <td>...</td>\n",
       "      <td>...</td>\n",
       "    </tr>\n",
       "    <tr>\n",
       "      <th>95</th>\n",
       "      <td>Engineering - Process Engineering Leiden, Neth...</td>\n",
       "      <td>None</td>\n",
       "      <td>None</td>\n",
       "      <td>None</td>\n",
       "      <td>None</td>\n",
       "    </tr>\n",
       "    <tr>\n",
       "      <th>96</th>\n",
       "      <td>Info Technology - Business Solutions Chiyoda, ...</td>\n",
       "      <td>None</td>\n",
       "      <td>None</td>\n",
       "      <td>None</td>\n",
       "      <td>None</td>\n",
       "    </tr>\n",
       "    <tr>\n",
       "      <th>97</th>\n",
       "      <td>Sales - Selling MD&amp;D Amersfoort, Netherlands</td>\n",
       "      <td>None</td>\n",
       "      <td>None</td>\n",
       "      <td>None</td>\n",
       "      <td>None</td>\n",
       "    </tr>\n",
       "    <tr>\n",
       "      <th>98</th>\n",
       "      <td>Operations - Procurement Manila, Philippines</td>\n",
       "      <td>None</td>\n",
       "      <td>None</td>\n",
       "      <td>None</td>\n",
       "      <td>None</td>\n",
       "    </tr>\n",
       "    <tr>\n",
       "      <th>99</th>\n",
       "      <td>Sales - Selling MD&amp;D Kao-hsiung, Taiwan</td>\n",
       "      <td>None</td>\n",
       "      <td>None</td>\n",
       "      <td>None</td>\n",
       "      <td>None</td>\n",
       "    </tr>\n",
       "  </tbody>\n",
       "</table>\n",
       "<p>100 rows × 5 columns</p>\n",
       "</div>"
      ],
      "text/plain": [
       "                                                    0     1     2     3     4\n",
       "0                         Finance - Finance Singapore  None  None  None  None\n",
       "1       Sales - Selling Pharmaceutical Mongkok, China  None  None  None  None\n",
       "2       Sales - Selling Pharmaceutical Mongkok, China  None  None  None  None\n",
       "3       Sales - Selling Pharmaceutical Tianjin, China  None  None  None  None\n",
       "4        Sales - Selling MD&D Richmond, United States  None  None  None  None\n",
       "..                                                ...   ...   ...   ...   ...\n",
       "95  Engineering - Process Engineering Leiden, Neth...  None  None  None  None\n",
       "96  Info Technology - Business Solutions Chiyoda, ...  None  None  None  None\n",
       "97       Sales - Selling MD&D Amersfoort, Netherlands  None  None  None  None\n",
       "98       Operations - Procurement Manila, Philippines  None  None  None  None\n",
       "99            Sales - Selling MD&D Kao-hsiung, Taiwan  None  None  None  None\n",
       "\n",
       "[100 rows x 5 columns]"
      ]
     },
     "execution_count": 10,
     "metadata": {},
     "output_type": "execute_result"
    }
   ],
   "source": [
    "# applyinh first split for separating all locations\n",
    "\n",
    "data['Other_details'].str.split(';', expand=True)"
   ]
  },
  {
   "cell_type": "code",
   "execution_count": 11,
   "id": "ce22a6a4",
   "metadata": {},
   "outputs": [
    {
     "data": {
      "text/html": [
       "<div>\n",
       "<style scoped>\n",
       "    .dataframe tbody tr th:only-of-type {\n",
       "        vertical-align: middle;\n",
       "    }\n",
       "\n",
       "    .dataframe tbody tr th {\n",
       "        vertical-align: top;\n",
       "    }\n",
       "\n",
       "    .dataframe thead th {\n",
       "        text-align: right;\n",
       "    }\n",
       "</style>\n",
       "<table border=\"1\" class=\"dataframe\">\n",
       "  <thead>\n",
       "    <tr style=\"text-align: right;\">\n",
       "      <th></th>\n",
       "      <th>0</th>\n",
       "      <th>1</th>\n",
       "    </tr>\n",
       "  </thead>\n",
       "  <tbody>\n",
       "    <tr>\n",
       "      <th>0</th>\n",
       "      <td>Finance - Finance Singapore</td>\n",
       "      <td>None</td>\n",
       "    </tr>\n",
       "    <tr>\n",
       "      <th>1</th>\n",
       "      <td>Sales - Selling Pharmaceutical Mongkok</td>\n",
       "      <td>China</td>\n",
       "    </tr>\n",
       "    <tr>\n",
       "      <th>2</th>\n",
       "      <td>Sales - Selling Pharmaceutical Mongkok</td>\n",
       "      <td>China</td>\n",
       "    </tr>\n",
       "    <tr>\n",
       "      <th>3</th>\n",
       "      <td>Sales - Selling Pharmaceutical Tianjin</td>\n",
       "      <td>China</td>\n",
       "    </tr>\n",
       "    <tr>\n",
       "      <th>4</th>\n",
       "      <td>Sales - Selling MD&amp;D Richmond</td>\n",
       "      <td>United States</td>\n",
       "    </tr>\n",
       "    <tr>\n",
       "      <th>...</th>\n",
       "      <td>...</td>\n",
       "      <td>...</td>\n",
       "    </tr>\n",
       "    <tr>\n",
       "      <th>95</th>\n",
       "      <td>Engineering - Process Engineering Leiden</td>\n",
       "      <td>Netherlands</td>\n",
       "    </tr>\n",
       "    <tr>\n",
       "      <th>96</th>\n",
       "      <td>Info Technology - Business Solutions Chiyoda</td>\n",
       "      <td>Japan</td>\n",
       "    </tr>\n",
       "    <tr>\n",
       "      <th>97</th>\n",
       "      <td>Sales - Selling MD&amp;D Amersfoort</td>\n",
       "      <td>Netherlands</td>\n",
       "    </tr>\n",
       "    <tr>\n",
       "      <th>98</th>\n",
       "      <td>Operations - Procurement Manila</td>\n",
       "      <td>Philippines</td>\n",
       "    </tr>\n",
       "    <tr>\n",
       "      <th>99</th>\n",
       "      <td>Sales - Selling MD&amp;D Kao-hsiung</td>\n",
       "      <td>Taiwan</td>\n",
       "    </tr>\n",
       "  </tbody>\n",
       "</table>\n",
       "<p>100 rows × 2 columns</p>\n",
       "</div>"
      ],
      "text/plain": [
       "                                               0               1\n",
       "0                    Finance - Finance Singapore            None\n",
       "1         Sales - Selling Pharmaceutical Mongkok           China\n",
       "2         Sales - Selling Pharmaceutical Mongkok           China\n",
       "3         Sales - Selling Pharmaceutical Tianjin           China\n",
       "4                  Sales - Selling MD&D Richmond   United States\n",
       "..                                           ...             ...\n",
       "95      Engineering - Process Engineering Leiden     Netherlands\n",
       "96  Info Technology - Business Solutions Chiyoda           Japan\n",
       "97               Sales - Selling MD&D Amersfoort     Netherlands\n",
       "98               Operations - Procurement Manila     Philippines\n",
       "99               Sales - Selling MD&D Kao-hsiung          Taiwan\n",
       "\n",
       "[100 rows x 2 columns]"
      ]
     },
     "execution_count": 11,
     "metadata": {},
     "output_type": "execute_result"
    }
   ],
   "source": [
    "# applying second split for separating country\n",
    "\n",
    "data['Other_details'].str.split(';', expand=True)[0].str.split(',', expand=True)"
   ]
  },
  {
   "cell_type": "code",
   "execution_count": 12,
   "id": "3348d1cc",
   "metadata": {},
   "outputs": [
    {
     "data": {
      "text/html": [
       "<div>\n",
       "<style scoped>\n",
       "    .dataframe tbody tr th:only-of-type {\n",
       "        vertical-align: middle;\n",
       "    }\n",
       "\n",
       "    .dataframe tbody tr th {\n",
       "        vertical-align: top;\n",
       "    }\n",
       "\n",
       "    .dataframe thead th {\n",
       "        text-align: right;\n",
       "    }\n",
       "</style>\n",
       "<table border=\"1\" class=\"dataframe\">\n",
       "  <thead>\n",
       "    <tr style=\"text-align: right;\">\n",
       "      <th></th>\n",
       "      <th>0</th>\n",
       "      <th>2</th>\n",
       "    </tr>\n",
       "  </thead>\n",
       "  <tbody>\n",
       "    <tr>\n",
       "      <th>0</th>\n",
       "      <td>Finance - Finance</td>\n",
       "      <td>Singapore</td>\n",
       "    </tr>\n",
       "    <tr>\n",
       "      <th>1</th>\n",
       "      <td>Sales - Selling Pharmaceutical</td>\n",
       "      <td>Mongkok</td>\n",
       "    </tr>\n",
       "    <tr>\n",
       "      <th>2</th>\n",
       "      <td>Sales - Selling Pharmaceutical</td>\n",
       "      <td>Mongkok</td>\n",
       "    </tr>\n",
       "    <tr>\n",
       "      <th>3</th>\n",
       "      <td>Sales - Selling Pharmaceutical</td>\n",
       "      <td>Tianjin</td>\n",
       "    </tr>\n",
       "    <tr>\n",
       "      <th>4</th>\n",
       "      <td>Sales - Selling MD&amp;D</td>\n",
       "      <td>Richmond</td>\n",
       "    </tr>\n",
       "    <tr>\n",
       "      <th>...</th>\n",
       "      <td>...</td>\n",
       "      <td>...</td>\n",
       "    </tr>\n",
       "    <tr>\n",
       "      <th>95</th>\n",
       "      <td>Engineering - Process Engineering</td>\n",
       "      <td>Leiden</td>\n",
       "    </tr>\n",
       "    <tr>\n",
       "      <th>96</th>\n",
       "      <td>Info Technology - Business Solutions</td>\n",
       "      <td>Chiyoda</td>\n",
       "    </tr>\n",
       "    <tr>\n",
       "      <th>97</th>\n",
       "      <td>Sales - Selling MD&amp;D</td>\n",
       "      <td>Amersfoort</td>\n",
       "    </tr>\n",
       "    <tr>\n",
       "      <th>98</th>\n",
       "      <td>Operations - Procurement</td>\n",
       "      <td>Manila</td>\n",
       "    </tr>\n",
       "    <tr>\n",
       "      <th>99</th>\n",
       "      <td>Sales - Selling MD&amp;D</td>\n",
       "      <td>Kao-hsiung</td>\n",
       "    </tr>\n",
       "  </tbody>\n",
       "</table>\n",
       "<p>100 rows × 2 columns</p>\n",
       "</div>"
      ],
      "text/plain": [
       "                                       0           2\n",
       "0                      Finance - Finance   Singapore\n",
       "1         Sales - Selling Pharmaceutical     Mongkok\n",
       "2         Sales - Selling Pharmaceutical     Mongkok\n",
       "3         Sales - Selling Pharmaceutical     Tianjin\n",
       "4                   Sales - Selling MD&D    Richmond\n",
       "..                                   ...         ...\n",
       "95     Engineering - Process Engineering      Leiden\n",
       "96  Info Technology - Business Solutions     Chiyoda\n",
       "97                  Sales - Selling MD&D  Amersfoort\n",
       "98              Operations - Procurement      Manila\n",
       "99                  Sales - Selling MD&D  Kao-hsiung\n",
       "\n",
       "[100 rows x 2 columns]"
      ]
     },
     "execution_count": 12,
     "metadata": {},
     "output_type": "execute_result"
    }
   ],
   "source": [
    "# applying third split for separating cities\n",
    "\n",
    "data['Other_details'].str.split(';', expand=True)[0].str.split(',', expand=True)[0].str.rpartition(' ')[[0,2]]"
   ]
  },
  {
   "cell_type": "code",
   "execution_count": 13,
   "id": "20c98e4c",
   "metadata": {},
   "outputs": [],
   "source": [
    "# allocating the splits into respective columns\n",
    "\n",
    "data['Department'] = data['Other_details'].str.split(';', expand=True)[0].str.split(',', expand=True)[0].str.rpartition(' ')[0]\n",
    "data['City'] = data['Other_details'].str.split(';', expand=True)[0].str.split(',', expand=True)[0].str.rpartition(' ')[2]\n",
    "data['Country'] = data['Other_details'].str.split(';', expand=True)[0].str.split(',', expand=True)[1]"
   ]
  },
  {
   "cell_type": "code",
   "execution_count": 14,
   "id": "50ffa235",
   "metadata": {},
   "outputs": [],
   "source": [
    "# repeating split for remaing columns to get all locations\n",
    "\n",
    "data['Location_2'] = data['Other_details'].str.split(';', expand=True)[1]\n",
    "data['Location_3'] = data['Other_details'].str.split(';', expand=True)[2]\n",
    "data['Location_4'] = data['Other_details'].str.split(';', expand=True)[3]\n",
    "data['Location_5'] = data['Other_details'].str.split(';', expand=True)[4]"
   ]
  },
  {
   "cell_type": "code",
   "execution_count": 15,
   "id": "edad83d8",
   "metadata": {},
   "outputs": [],
   "source": [
    "# dropping unwanted columns\n",
    "\n",
    "data.drop('Other_details', axis=1, inplace=True)"
   ]
  },
  {
   "cell_type": "code",
   "execution_count": 24,
   "id": "5f80613a",
   "metadata": {},
   "outputs": [],
   "source": [
    "# combining city and country to create location 1 column\n",
    "\n",
    "data['Location_1'] = (data['City'] + ',' + data['Country'].fillna('')).str.rstrip(',')"
   ]
  },
  {
   "cell_type": "code",
   "execution_count": 27,
   "id": "2355fb96",
   "metadata": {},
   "outputs": [],
   "source": [
    "# creating final dataset\n",
    "\n",
    "data = data[['Job_Title', 'Department', 'Location_1', 'Location_2', 'Location_3', 'Location_4', 'Location_5']]"
   ]
  },
  {
   "cell_type": "code",
   "execution_count": 28,
   "id": "cf54256c",
   "metadata": {},
   "outputs": [
    {
     "data": {
      "text/html": [
       "<div>\n",
       "<style scoped>\n",
       "    .dataframe tbody tr th:only-of-type {\n",
       "        vertical-align: middle;\n",
       "    }\n",
       "\n",
       "    .dataframe tbody tr th {\n",
       "        vertical-align: top;\n",
       "    }\n",
       "\n",
       "    .dataframe thead th {\n",
       "        text-align: right;\n",
       "    }\n",
       "</style>\n",
       "<table border=\"1\" class=\"dataframe\">\n",
       "  <thead>\n",
       "    <tr style=\"text-align: right;\">\n",
       "      <th></th>\n",
       "      <th>Job_Title</th>\n",
       "      <th>Department</th>\n",
       "      <th>Location_1</th>\n",
       "      <th>Location_2</th>\n",
       "      <th>Location_3</th>\n",
       "      <th>Location_4</th>\n",
       "      <th>Location_5</th>\n",
       "    </tr>\n",
       "  </thead>\n",
       "  <tbody>\n",
       "    <tr>\n",
       "      <th>0</th>\n",
       "      <td>Senior Finance Analyst, APAC Vision Deliver</td>\n",
       "      <td>Finance - Finance</td>\n",
       "      <td>Singapore</td>\n",
       "      <td>None</td>\n",
       "      <td>None</td>\n",
       "      <td>None</td>\n",
       "      <td>None</td>\n",
       "    </tr>\n",
       "    <tr>\n",
       "      <th>1</th>\n",
       "      <td>Senior Therapeutic Specialist (Neuroscience) [...</td>\n",
       "      <td>Sales - Selling Pharmaceutical</td>\n",
       "      <td>Mongkok, China</td>\n",
       "      <td>None</td>\n",
       "      <td>None</td>\n",
       "      <td>None</td>\n",
       "      <td>None</td>\n",
       "    </tr>\n",
       "    <tr>\n",
       "      <th>2</th>\n",
       "      <td>Key Account Manager [Janssen]</td>\n",
       "      <td>Sales - Selling Pharmaceutical</td>\n",
       "      <td>Mongkok, China</td>\n",
       "      <td>None</td>\n",
       "      <td>None</td>\n",
       "      <td>None</td>\n",
       "      <td>None</td>\n",
       "    </tr>\n",
       "    <tr>\n",
       "      <th>3</th>\n",
       "      <td>EMR</td>\n",
       "      <td>Sales - Selling Pharmaceutical</td>\n",
       "      <td>Tianjin, China</td>\n",
       "      <td>None</td>\n",
       "      <td>None</td>\n",
       "      <td>None</td>\n",
       "      <td>None</td>\n",
       "    </tr>\n",
       "    <tr>\n",
       "      <th>4</th>\n",
       "      <td>Clinical Sales Specialist (Joint Reconstructio...</td>\n",
       "      <td>Sales - Selling MD&amp;D</td>\n",
       "      <td>Richmond, United States</td>\n",
       "      <td>None</td>\n",
       "      <td>None</td>\n",
       "      <td>None</td>\n",
       "      <td>None</td>\n",
       "    </tr>\n",
       "    <tr>\n",
       "      <th>5</th>\n",
       "      <td>Key Account Manager</td>\n",
       "      <td>Sales - Selling MD&amp;D</td>\n",
       "      <td>Lucknow, India</td>\n",
       "      <td>None</td>\n",
       "      <td>None</td>\n",
       "      <td>None</td>\n",
       "      <td>None</td>\n",
       "    </tr>\n",
       "    <tr>\n",
       "      <th>6</th>\n",
       "      <td>Process Excellence Lead</td>\n",
       "      <td>Engineering - Process Engineering</td>\n",
       "      <td>Groningen, Netherlands</td>\n",
       "      <td>None</td>\n",
       "      <td>None</td>\n",
       "      <td>None</td>\n",
       "      <td>None</td>\n",
       "    </tr>\n",
       "    <tr>\n",
       "      <th>7</th>\n",
       "      <td>ABAP Developer</td>\n",
       "      <td>Info Technology - Development</td>\n",
       "      <td>Shanghai, China</td>\n",
       "      <td>None</td>\n",
       "      <td>None</td>\n",
       "      <td>None</td>\n",
       "      <td>None</td>\n",
       "    </tr>\n",
       "    <tr>\n",
       "      <th>8</th>\n",
       "      <td>MR</td>\n",
       "      <td>Sales - Selling Pharmaceutical</td>\n",
       "      <td>Haikou, China</td>\n",
       "      <td>None</td>\n",
       "      <td>None</td>\n",
       "      <td>None</td>\n",
       "      <td>None</td>\n",
       "    </tr>\n",
       "    <tr>\n",
       "      <th>9</th>\n",
       "      <td>District Manager- Lucknow</td>\n",
       "      <td>Sales - Selling Pharmaceutical</td>\n",
       "      <td>Lucknow, India</td>\n",
       "      <td>None</td>\n",
       "      <td>None</td>\n",
       "      <td>None</td>\n",
       "      <td>None</td>\n",
       "    </tr>\n",
       "  </tbody>\n",
       "</table>\n",
       "</div>"
      ],
      "text/plain": [
       "                                           Job_Title  \\\n",
       "0        Senior Finance Analyst, APAC Vision Deliver   \n",
       "1  Senior Therapeutic Specialist (Neuroscience) [...   \n",
       "2                      Key Account Manager [Janssen]   \n",
       "3                                                EMR   \n",
       "4  Clinical Sales Specialist (Joint Reconstructio...   \n",
       "5                                Key Account Manager   \n",
       "6                            Process Excellence Lead   \n",
       "7                                     ABAP Developer   \n",
       "8                                                 MR   \n",
       "9                          District Manager- Lucknow   \n",
       "\n",
       "                          Department               Location_1 Location_2  \\\n",
       "0                  Finance - Finance                Singapore       None   \n",
       "1     Sales - Selling Pharmaceutical           Mongkok, China       None   \n",
       "2     Sales - Selling Pharmaceutical           Mongkok, China       None   \n",
       "3     Sales - Selling Pharmaceutical           Tianjin, China       None   \n",
       "4               Sales - Selling MD&D  Richmond, United States       None   \n",
       "5               Sales - Selling MD&D           Lucknow, India       None   \n",
       "6  Engineering - Process Engineering   Groningen, Netherlands       None   \n",
       "7      Info Technology - Development          Shanghai, China       None   \n",
       "8     Sales - Selling Pharmaceutical            Haikou, China       None   \n",
       "9     Sales - Selling Pharmaceutical           Lucknow, India       None   \n",
       "\n",
       "  Location_3 Location_4 Location_5  \n",
       "0       None       None       None  \n",
       "1       None       None       None  \n",
       "2       None       None       None  \n",
       "3       None       None       None  \n",
       "4       None       None       None  \n",
       "5       None       None       None  \n",
       "6       None       None       None  \n",
       "7       None       None       None  \n",
       "8       None       None       None  \n",
       "9       None       None       None  "
      ]
     },
     "execution_count": 28,
     "metadata": {},
     "output_type": "execute_result"
    }
   ],
   "source": [
    "# preview final prepared dataset\n",
    "\n",
    "data.head(10)"
   ]
  },
  {
   "cell_type": "code",
   "execution_count": null,
   "id": "26315efb",
   "metadata": {},
   "outputs": [],
   "source": [
    "# dumping it into excel file\n",
    "\n",
    "data.to_excel('output.xlsx')"
   ]
  },
  {
   "cell_type": "code",
   "execution_count": 17,
   "id": "cc2ee3b8",
   "metadata": {},
   "outputs": [],
   "source": [
    "# aborting selenium operation by quitting browser\n",
    "\n",
    "driver.quit()"
   ]
  },
  {
   "cell_type": "code",
   "execution_count": null,
   "id": "92341715",
   "metadata": {},
   "outputs": [],
   "source": []
  },
  {
   "cell_type": "code",
   "execution_count": null,
   "id": "6e803d12",
   "metadata": {},
   "outputs": [],
   "source": []
  },
  {
   "cell_type": "code",
   "execution_count": null,
   "id": "1bc85aed",
   "metadata": {},
   "outputs": [],
   "source": []
  },
  {
   "cell_type": "code",
   "execution_count": null,
   "id": "a28c7d58",
   "metadata": {},
   "outputs": [],
   "source": []
  },
  {
   "cell_type": "code",
   "execution_count": null,
   "id": "c3b6f07f",
   "metadata": {},
   "outputs": [],
   "source": []
  },
  {
   "cell_type": "code",
   "execution_count": null,
   "id": "beeee4a6",
   "metadata": {},
   "outputs": [],
   "source": []
  }
 ],
 "metadata": {
  "kernelspec": {
   "display_name": "Python 3",
   "language": "python",
   "name": "python3"
  },
  "language_info": {
   "codemirror_mode": {
    "name": "ipython",
    "version": 3
   },
   "file_extension": ".py",
   "mimetype": "text/x-python",
   "name": "python",
   "nbconvert_exporter": "python",
   "pygments_lexer": "ipython3",
   "version": "3.8.8"
  }
 },
 "nbformat": 4,
 "nbformat_minor": 5
}
