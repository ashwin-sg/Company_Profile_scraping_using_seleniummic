{
 "cells": [
  {
   "cell_type": "markdown",
   "id": "195e6259",
   "metadata": {},
   "source": [
    "#### import packages"
   ]
  },
  {
   "cell_type": "code",
   "execution_count": 1,
   "id": "b82910b1",
   "metadata": {},
   "outputs": [
    {
     "name": "stdout",
     "output_type": "stream",
     "text": [
      "Finish importing packages\n"
     ]
    }
   ],
   "source": [
    "from selenium import webdriver\n",
    "from selenium.webdriver.common.keys import Keys\n",
    "from bs4 import BeautifulSoup\n",
    "from time import sleep\n",
    "import csv \n",
    "from lxml import etree\n",
    "import pandas as pd\n",
    "import numpy as np\n",
    "from selenium.webdriver.common.by import By\n",
    "\n",
    "print(\"Finish importing packages\")"
   ]
  },
  {
   "cell_type": "code",
   "execution_count": 2,
   "id": "a9c322ea",
   "metadata": {},
   "outputs": [
    {
     "name": "stderr",
     "output_type": "stream",
     "text": [
      "<ipython-input-2-855cc3fcee5d>:8: DeprecationWarning: executable_path has been deprecated, please pass in a Service object\n",
      "  driver = webdriver.Chrome(PATH)\n"
     ]
    },
    {
     "name": "stdout",
     "output_type": "stream",
     "text": [
      "Web driver is launched successfully\n"
     ]
    }
   ],
   "source": [
    "# provide chromedriver path\n",
    "\n",
    "PATH = \"C:\\Webdrivers\\Chromedriver 69\\chromedriver.exe\"\n",
    "\n",
    "\n",
    "# Open Chrome and Access Linkedin login site\n",
    "\n",
    "driver = webdriver.Chrome(PATH)\n",
    "sleep(2)\n",
    "\n",
    "print('Web driver is launched successfully')"
   ]
  },
  {
   "cell_type": "markdown",
   "id": "a7b82e9d",
   "metadata": {},
   "source": [
    "  "
   ]
  },
  {
   "cell_type": "markdown",
   "id": "e33d179f",
   "metadata": {},
   "source": [
    "#### Extracting a data"
   ]
  },
  {
   "cell_type": "code",
   "execution_count": 16,
   "id": "4faa5fb5",
   "metadata": {},
   "outputs": [
    {
     "name": "stderr",
     "output_type": "stream",
     "text": [
      "<ipython-input-16-e72c9d781df3>:16: DeprecationWarning: find_elements_by_* commands are deprecated. Please use find_elements() instead\n",
      "  for title in driver.find_elements_by_xpath('//a[@class=\"link\"]'):\n",
      "<ipython-input-16-e72c9d781df3>:22: DeprecationWarning: find_elements_by_* commands are deprecated. Please use find_elements() instead\n",
      "  for loc in driver.find_elements_by_xpath('//div[@class=\"article__header__text__subtitle\"]/span'):\n"
     ]
    }
   ],
   "source": [
    "# creating empty lists to store the data\n",
    "\n",
    "job_title = []\n",
    "reference = []\n",
    "location = []\n",
    "\n",
    "\n",
    "# creating pagination\n",
    "\n",
    "for num in range(0,7,6):\n",
    "    \n",
    "    url = f'https://workmyway.avature.net/ManpowerGroupTalentSolutions/SearchJobs/?jobRecordsPerPage=6&jobOffset={num}'\n",
    "    driver.get(url)\n",
    "    sleep(15)\n",
    "    \n",
    "    for title in driver.find_elements_by_xpath('//a[@class=\"link\"]'):\n",
    "        job_title.append(title.text)\n",
    "        \n",
    "#     for ref in driver.find_elements_by_xpath('')\n",
    "#         reference.append(ref.text)\n",
    "      \n",
    "    for loc in driver.find_elements_by_xpath('//div[@class=\"article__header__text__subtitle\"]/span'):\n",
    "        location.append(loc.text)\n",
    " \n",
    "    \n",
    "    \n"
   ]
  },
  {
   "cell_type": "code",
   "execution_count": 25,
   "id": "5127f65c",
   "metadata": {},
   "outputs": [
    {
     "data": {
      "text/plain": [
       "['Talent Acquisition Specialist',\n",
       " 'Senior Solutions Architect',\n",
       " 'Senior Manager RPO Program Delivery',\n",
       " 'Recruitment Team Leader with French',\n",
       " 'Recruitment Team Leader',\n",
       " 'Global Market Intelligence Manager',\n",
       " 'Global IT Senior Test Specialist',\n",
       " 'Cyber-Security Solutions Architect']"
      ]
     },
     "execution_count": 25,
     "metadata": {},
     "output_type": "execute_result"
    }
   ],
   "source": [
    "job_title"
   ]
  },
  {
   "cell_type": "code",
   "execution_count": 24,
   "id": "30320cb8",
   "metadata": {},
   "outputs": [],
   "source": [
    "job_title.remove(\"Reset\")"
   ]
  },
  {
   "cell_type": "code",
   "execution_count": 18,
   "id": "de9e8ac3",
   "metadata": {},
   "outputs": [
    {
     "data": {
      "text/plain": [
       "['POLAND',\n",
       " 'UNITED KINGDOM',\n",
       " 'POLAND',\n",
       " 'POLAND',\n",
       " 'POLAND',\n",
       " 'POLAND',\n",
       " 'POLAND',\n",
       " 'POLAND']"
      ]
     },
     "execution_count": 18,
     "metadata": {},
     "output_type": "execute_result"
    }
   ],
   "source": [
    "location"
   ]
  },
  {
   "cell_type": "code",
   "execution_count": 26,
   "id": "ab582722",
   "metadata": {},
   "outputs": [
    {
     "name": "stdout",
     "output_type": "stream",
     "text": [
      "8\n",
      "8\n"
     ]
    }
   ],
   "source": [
    "print(len(job_title))\n",
    "print(len(location))"
   ]
  },
  {
   "cell_type": "code",
   "execution_count": 9,
   "id": "51d64160",
   "metadata": {},
   "outputs": [],
   "source": [
    "talent = pd.DataFrame({})"
   ]
  },
  {
   "cell_type": "code",
   "execution_count": 10,
   "id": "88f26746",
   "metadata": {},
   "outputs": [],
   "source": []
  },
  {
   "cell_type": "code",
   "execution_count": null,
   "id": "33618758",
   "metadata": {},
   "outputs": [],
   "source": [
    "# Manpower_Talent_NA.to_excel('talent.xlsx')"
   ]
  },
  {
   "cell_type": "code",
   "execution_count": 11,
   "id": "fbaf9de6",
   "metadata": {},
   "outputs": [],
   "source": [
    "driver.close()"
   ]
  },
  {
   "cell_type": "code",
   "execution_count": null,
   "id": "913dfdf3",
   "metadata": {},
   "outputs": [],
   "source": []
  }
 ],
 "metadata": {
  "kernelspec": {
   "display_name": "Python 3",
   "language": "python",
   "name": "python3"
  },
  "language_info": {
   "codemirror_mode": {
    "name": "ipython",
    "version": 3
   },
   "file_extension": ".py",
   "mimetype": "text/x-python",
   "name": "python",
   "nbconvert_exporter": "python",
   "pygments_lexer": "ipython3",
   "version": "3.8.8"
  }
 },
 "nbformat": 4,
 "nbformat_minor": 5
}
